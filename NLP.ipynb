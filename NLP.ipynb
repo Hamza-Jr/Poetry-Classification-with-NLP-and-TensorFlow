{
  "nbformat": 4,
  "nbformat_minor": 0,
  "metadata": {
    "colab": {
      "provenance": []
    },
    "kernelspec": {
      "name": "python3",
      "display_name": "Python 3"
    },
    "language_info": {
      "name": "python"
    }
  },
  "cells": [
    {
      "cell_type": "markdown",
      "source": [
        "# Load the Dataset"
      ],
      "metadata": {
        "id": "Ng_nxQIQEfqT"
      }
    },
    {
      "cell_type": "markdown",
      "source": [
        "First, load the training and testing data into Pandas DataFrames."
      ],
      "metadata": {
        "id": "gw4zOdgtFNwZ"
      }
    },
    {
      "cell_type": "code",
      "source": [
        "import pandas as pd\n",
        "\n",
        "# Load datasets\n",
        "train_path = \"/content/Poem_classification - train_data.csv\"\n",
        "test_path = \"/content/Poem_classification - test_data.csv\"\n",
        "\n",
        "df_train = pd.read_csv(train_path)\n",
        "df_test = pd.read_csv(test_path)\n",
        "\n",
        "# Display first few rows\n",
        "print(\"Train Dataset:\")\n",
        "print(df_train.head())\n",
        "\n",
        "print(\"\\nTest Dataset:\")\n",
        "print(df_test.head())\n"
      ],
      "metadata": {
        "colab": {
          "base_uri": "https://localhost:8080/"
        },
        "id": "z2SWVxO0CFpr",
        "outputId": "905e0c37-dbde-4fea-956f-e24e8aac30ce"
      },
      "execution_count": null,
      "outputs": [
        {
          "output_type": "stream",
          "name": "stdout",
          "text": [
            "Train Dataset:\n",
            "   Genre                                               Poem\n",
            "0  Music                                                NaN\n",
            "1  Music                In the thick brushthey spend the...\n",
            "2  Music     Storms are generous.                       ...\n",
            "3  Music   —After Ana Mendieta Did you carry around the ...\n",
            "4  Music   for Aja Sherrard at 20The portent may itself ...\n",
            "\n",
            "Test Dataset:\n",
            "   Genre                                               Poem\n",
            "0  Music  A woman walks by the bench I’m sitting onwith ...\n",
            "1  Music  Because I am a boy, the untouchability of beau...\n",
            "2  Music  Because today we did not leave this world,We n...\n",
            "3  Music  Big Bend has been here, been here. Shouldn’t i...\n",
            "4  Music  I put shells there, along the lip of the road....\n"
          ]
        }
      ]
    },
    {
      "cell_type": "markdown",
      "source": [
        "# Check Dataset Structure"
      ],
      "metadata": {
        "id": "Vm0BdKagFTuI"
      }
    },
    {
      "cell_type": "markdown",
      "source": [
        "## 1-Check for missing values and column names."
      ],
      "metadata": {
        "id": "FKYGGja7FXFw"
      }
    },
    {
      "cell_type": "code",
      "source": [
        "print(df_train.info())\n",
        "\n",
        "print('**********************************************')\n",
        "print(df_test.info())\n",
        "\n"
      ],
      "metadata": {
        "colab": {
          "base_uri": "https://localhost:8080/"
        },
        "id": "hheqF27_CF1h",
        "outputId": "cb864fac-8060-4853-c7e7-67527fa2be6f"
      },
      "execution_count": null,
      "outputs": [
        {
          "output_type": "stream",
          "name": "stdout",
          "text": [
            "<class 'pandas.core.frame.DataFrame'>\n",
            "RangeIndex: 841 entries, 0 to 840\n",
            "Data columns (total 2 columns):\n",
            " #   Column  Non-Null Count  Dtype \n",
            "---  ------  --------------  ----- \n",
            " 0   Genre   841 non-null    object\n",
            " 1   Poem    837 non-null    object\n",
            "dtypes: object(2)\n",
            "memory usage: 13.3+ KB\n",
            "None\n",
            "**********************************************\n",
            "<class 'pandas.core.frame.DataFrame'>\n",
            "RangeIndex: 150 entries, 0 to 149\n",
            "Data columns (total 2 columns):\n",
            " #   Column  Non-Null Count  Dtype \n",
            "---  ------  --------------  ----- \n",
            " 0   Genre   150 non-null    object\n",
            " 1   Poem    150 non-null    object\n",
            "dtypes: object(2)\n",
            "memory usage: 2.5+ KB\n",
            "None\n"
          ]
        }
      ]
    },
    {
      "cell_type": "code",
      "source": [
        "# Check for missing values\n",
        "print(df_train.isnull().sum())\n",
        "print(df_test.isnull().sum())\n"
      ],
      "metadata": {
        "colab": {
          "base_uri": "https://localhost:8080/"
        },
        "id": "NRSqXxRoF05A",
        "outputId": "6adb2fb9-af32-46e5-bbcb-cbfe69a7c5df"
      },
      "execution_count": null,
      "outputs": [
        {
          "output_type": "stream",
          "name": "stdout",
          "text": [
            "Genre    0\n",
            "Poem     4\n",
            "dtype: int64\n",
            "Genre    0\n",
            "Poem     0\n",
            "dtype: int64\n"
          ]
        }
      ]
    },
    {
      "cell_type": "markdown",
      "source": [
        "## 2-Handle Missing Values"
      ],
      "metadata": {
        "id": "OJbNg0u6GVUJ"
      }
    },
    {
      "cell_type": "code",
      "source": [
        "# Drop rows with missing poems\n",
        "df_train = df_train.dropna(subset=['Poem'])\n",
        "\n",
        "# Check again for missing values\n",
        "print(df_train.isnull().sum())\n"
      ],
      "metadata": {
        "colab": {
          "base_uri": "https://localhost:8080/"
        },
        "id": "r3vFWhdsGWpt",
        "outputId": "c83f70e3-00d2-43a1-cd73-2ea1b80b0e26"
      },
      "execution_count": null,
      "outputs": [
        {
          "output_type": "stream",
          "name": "stdout",
          "text": [
            "Genre    0\n",
            "Poem     0\n",
            "dtype: int64\n"
          ]
        }
      ]
    },
    {
      "cell_type": "markdown",
      "source": [
        "## 3- Clean the Text Data"
      ],
      "metadata": {
        "id": "UmwIsauvGen7"
      }
    },
    {
      "cell_type": "markdown",
      "source": [
        "We'll preprocess the poems by:\n",
        "\n",
        "Lowercasing\n",
        "\n",
        "Removing punctuation\n",
        "\n",
        "Removing stopwords"
      ],
      "metadata": {
        "id": "6QJrxF7dGnxD"
      }
    },
    {
      "cell_type": "code",
      "source": [
        "import re\n",
        "import nltk\n",
        "from nltk.corpus import stopwords\n",
        "\n",
        "# Download stopwords (if not already downloaded)\n",
        "nltk.download('stopwords')\n",
        "\n",
        "# Get stopwords list\n",
        "stop_words = set(stopwords.words('english'))\n",
        "\n",
        "# Function to clean text\n",
        "def clean_text(text):\n",
        "    text = text.lower()  # Convert to lowercase\n",
        "    text = re.sub(r'\\W', ' ', text)  # Remove punctuation\n",
        "    text = re.sub(r'\\s+', ' ', text)  # Remove extra spaces\n",
        "    text = ' '.join(word for word in text.split() if word not in stop_words)  # Remove stopwords\n",
        "    return text.strip()\n",
        "\n",
        "# Apply cleaning to both datasets\n",
        "df_train['cleaned_text'] = df_train['Poem'].astype(str).apply(clean_text)\n",
        "df_test['cleaned_text'] = df_test['Poem'].astype(str).apply(clean_text)\n",
        "\n",
        "# Display first few cleaned rows\n",
        "print(df_train[['Poem', 'cleaned_text']].head())\n"
      ],
      "metadata": {
        "colab": {
          "base_uri": "https://localhost:8080/"
        },
        "id": "zvN45iedGhtp",
        "outputId": "da2ba661-5b0a-4275-c537-3264c4ec1219"
      },
      "execution_count": null,
      "outputs": [
        {
          "output_type": "stream",
          "name": "stdout",
          "text": [
            "                                                Poem  \\\n",
            "1                In the thick brushthey spend the...   \n",
            "2     Storms are generous.                       ...   \n",
            "3   —After Ana Mendieta Did you carry around the ...   \n",
            "4   for Aja Sherrard at 20The portent may itself ...   \n",
            "5   for Bob Marley, Bavaria, November 1980 Here i...   \n",
            "\n",
            "                                        cleaned_text  \n",
            "1  thick brushthey spend hottest part day soaking...  \n",
            "2  storms generous something easy surrender sitti...  \n",
            "3  ana mendieta carry around matin star hold fore...  \n",
            "4  aja sherrard 20the portent may memory wallace ...  \n",
            "5  bob marley bavaria november 1980 brilliant mor...  \n"
          ]
        },
        {
          "output_type": "stream",
          "name": "stderr",
          "text": [
            "[nltk_data] Downloading package stopwords to /root/nltk_data...\n",
            "[nltk_data]   Package stopwords is already up-to-date!\n"
          ]
        }
      ]
    },
    {
      "cell_type": "markdown",
      "source": [
        "#  Tokenize and Pad the Sequences"
      ],
      "metadata": {
        "id": "Gp98JlBMG9aL"
      }
    },
    {
      "cell_type": "markdown",
      "source": [
        "We will use Keras Tokenizer to convert text into sequences of integers and pad them for consistency."
      ],
      "metadata": {
        "id": "TPT9FhsEHAwJ"
      }
    },
    {
      "cell_type": "code",
      "source": [
        "from tensorflow.keras.preprocessing.text import Tokenizer\n",
        "from tensorflow.keras.preprocessing.sequence import pad_sequences\n",
        "\n",
        "# Parameters\n",
        "max_words = 5000  # Maximum number of words to keep\n",
        "max_len = 100     # Max length of sequences\n",
        "\n",
        "# Initialize the Tokenizer\n",
        "tokenizer = Tokenizer(num_words=max_words, lower=True, split=' ')\n",
        "tokenizer.fit_on_texts(df_train['cleaned_text'])\n",
        "\n",
        "# Convert text to sequences\n",
        "X_train_seq = tokenizer.texts_to_sequences(df_train['cleaned_text'])\n",
        "X_test_seq = tokenizer.texts_to_sequences(df_test['cleaned_text'])\n",
        "\n",
        "# Pad sequences to ensure uniform input size\n",
        "X_train_pad = pad_sequences(X_train_seq, maxlen=max_len)\n",
        "X_test_pad = pad_sequences(X_test_seq, maxlen=max_len)\n",
        "\n",
        "# Print the shape of padded sequences\n",
        "print(\"Shape of padded training data:\", X_train_pad.shape)\n",
        "print(\"Shape of padded test data:\", X_test_pad.shape)\n"
      ],
      "metadata": {
        "colab": {
          "base_uri": "https://localhost:8080/"
        },
        "id": "HLxn2_VSG-6I",
        "outputId": "83b02599-38b3-4829-b2aa-422ad250be18"
      },
      "execution_count": null,
      "outputs": [
        {
          "output_type": "stream",
          "name": "stdout",
          "text": [
            "Shape of padded training data: (837, 100)\n",
            "Shape of padded test data: (150, 100)\n"
          ]
        }
      ]
    },
    {
      "cell_type": "markdown",
      "source": [
        "# Encode the Genre Labels"
      ],
      "metadata": {
        "id": "fAoPdXN6HLsj"
      }
    },
    {
      "cell_type": "markdown",
      "source": [
        "Now, we need to convert the \"Genre\" column into numerical labels so our machine learning model can understand them."
      ],
      "metadata": {
        "id": "vInZP2yxHNjg"
      }
    },
    {
      "cell_type": "code",
      "source": [
        "import tensorflow as tf\n",
        "\n",
        "# Convert genre labels to integers using TensorFlow\n",
        "label_mapping = {label: idx for idx, label in enumerate(df_train['Genre'].unique())}\n",
        "print(\"Label Mapping:\", label_mapping)\n",
        "\n",
        "# Map the labels to integer values\n",
        "y_train = df_train['Genre'].map(label_mapping).values\n",
        "y_test = df_test['Genre'].map(label_mapping).values\n",
        "\n",
        "# Print the first few labels\n",
        "print(\"First few labels:\", y_train[:5])\n"
      ],
      "metadata": {
        "colab": {
          "base_uri": "https://localhost:8080/"
        },
        "id": "oVwVl9WkHORI",
        "outputId": "9c5b7b42-26c1-49a6-a293-8fbce19ad137"
      },
      "execution_count": null,
      "outputs": [
        {
          "output_type": "stream",
          "name": "stdout",
          "text": [
            "Label Mapping: {'Music': 0, 'Death': 1, 'Affection': 2, 'Environment': 3}\n",
            "First few labels: [0 0 0 0 0]\n"
          ]
        }
      ]
    },
    {
      "cell_type": "markdown",
      "source": [
        "# Train a Model"
      ],
      "metadata": {
        "id": "N0klSZXgHU3p"
      }
    },
    {
      "cell_type": "markdown",
      "source": [
        "## 1-Define the Model Architecture"
      ],
      "metadata": {
        "id": "q5jE5AMVI07R"
      }
    },
    {
      "cell_type": "markdown",
      "source": [
        "In this step, we define the layers and architecture of the model. We'll use an Embedding Layer, followed by LSTM layers for sequence processing, and a Dense layer for classification."
      ],
      "metadata": {
        "id": "MMmiE4kKIeqh"
      }
    },
    {
      "cell_type": "code",
      "source": [
        "import tensorflow as tf\n",
        "from tensorflow.keras.models import Sequential\n",
        "from tensorflow.keras.layers import Embedding, LSTM, Dense, Dropout\n",
        "\n",
        "# Parameters\n",
        "embedding_dim = 100  # Embedding dimension\n",
        "max_words = 5000     # Maximum number of words in the vocabulary\n",
        "max_len = 100        # Maximum length of sequences\n",
        "\n",
        "# Build the model\n",
        "model = Sequential([\n",
        "    # Embedding Layer: Converts words into dense vectors of fixed size\n",
        "    Embedding(input_dim=max_words, output_dim=embedding_dim, input_length=max_len),\n",
        "\n",
        "    # LSTM Layer: Learn sequential relationships\n",
        "    LSTM(128, return_sequences=True),\n",
        "\n",
        "    # Dropout Layer: Prevents overfitting by randomly setting input units to 0\n",
        "    Dropout(0.2),\n",
        "\n",
        "    # Second LSTM Layer\n",
        "    LSTM(64),\n",
        "\n",
        "    # Dense Layer: Fully connected layer to learn complex patterns\n",
        "    Dense(32, activation='relu'),\n",
        "\n",
        "    # Output Layer: For classification (number of classes)\n",
        "    Dense(len(label_mapping), activation='softmax')  # Number of genres\n",
        "])\n",
        "\n",
        "# Show the model summary\n",
        "model.summary()\n"
      ],
      "metadata": {
        "colab": {
          "base_uri": "https://localhost:8080/",
          "height": 376
        },
        "id": "10oQ64HVHWjh",
        "outputId": "8d800df3-d0b0-4e7b-bced-06b2e129f559"
      },
      "execution_count": null,
      "outputs": [
        {
          "output_type": "stream",
          "name": "stderr",
          "text": [
            "/usr/local/lib/python3.11/dist-packages/keras/src/layers/core/embedding.py:90: UserWarning: Argument `input_length` is deprecated. Just remove it.\n",
            "  warnings.warn(\n"
          ]
        },
        {
          "output_type": "display_data",
          "data": {
            "text/plain": [
              "\u001b[1mModel: \"sequential_2\"\u001b[0m\n"
            ],
            "text/html": [
              "<pre style=\"white-space:pre;overflow-x:auto;line-height:normal;font-family:Menlo,'DejaVu Sans Mono',consolas,'Courier New',monospace\"><span style=\"font-weight: bold\">Model: \"sequential_2\"</span>\n",
              "</pre>\n"
            ]
          },
          "metadata": {}
        },
        {
          "output_type": "display_data",
          "data": {
            "text/plain": [
              "┏━━━━━━━━━━━━━━━━━━━━━━━━━━━━━━━━━━━━━━┳━━━━━━━━━━━━━━━━━━━━━━━━━━━━━┳━━━━━━━━━━━━━━━━━┓\n",
              "┃\u001b[1m \u001b[0m\u001b[1mLayer (type)                        \u001b[0m\u001b[1m \u001b[0m┃\u001b[1m \u001b[0m\u001b[1mOutput Shape               \u001b[0m\u001b[1m \u001b[0m┃\u001b[1m \u001b[0m\u001b[1m        Param #\u001b[0m\u001b[1m \u001b[0m┃\n",
              "┡━━━━━━━━━━━━━━━━━━━━━━━━━━━━━━━━━━━━━━╇━━━━━━━━━━━━━━━━━━━━━━━━━━━━━╇━━━━━━━━━━━━━━━━━┩\n",
              "│ embedding_2 (\u001b[38;5;33mEmbedding\u001b[0m)              │ ?                           │     \u001b[38;5;34m0\u001b[0m (unbuilt) │\n",
              "├──────────────────────────────────────┼─────────────────────────────┼─────────────────┤\n",
              "│ lstm_4 (\u001b[38;5;33mLSTM\u001b[0m)                        │ ?                           │     \u001b[38;5;34m0\u001b[0m (unbuilt) │\n",
              "├──────────────────────────────────────┼─────────────────────────────┼─────────────────┤\n",
              "│ dropout_2 (\u001b[38;5;33mDropout\u001b[0m)                  │ ?                           │               \u001b[38;5;34m0\u001b[0m │\n",
              "├──────────────────────────────────────┼─────────────────────────────┼─────────────────┤\n",
              "│ lstm_5 (\u001b[38;5;33mLSTM\u001b[0m)                        │ ?                           │     \u001b[38;5;34m0\u001b[0m (unbuilt) │\n",
              "├──────────────────────────────────────┼─────────────────────────────┼─────────────────┤\n",
              "│ dense_4 (\u001b[38;5;33mDense\u001b[0m)                      │ ?                           │     \u001b[38;5;34m0\u001b[0m (unbuilt) │\n",
              "├──────────────────────────────────────┼─────────────────────────────┼─────────────────┤\n",
              "│ dense_5 (\u001b[38;5;33mDense\u001b[0m)                      │ ?                           │     \u001b[38;5;34m0\u001b[0m (unbuilt) │\n",
              "└──────────────────────────────────────┴─────────────────────────────┴─────────────────┘\n"
            ],
            "text/html": [
              "<pre style=\"white-space:pre;overflow-x:auto;line-height:normal;font-family:Menlo,'DejaVu Sans Mono',consolas,'Courier New',monospace\">┏━━━━━━━━━━━━━━━━━━━━━━━━━━━━━━━━━━━━━━┳━━━━━━━━━━━━━━━━━━━━━━━━━━━━━┳━━━━━━━━━━━━━━━━━┓\n",
              "┃<span style=\"font-weight: bold\"> Layer (type)                         </span>┃<span style=\"font-weight: bold\"> Output Shape                </span>┃<span style=\"font-weight: bold\">         Param # </span>┃\n",
              "┡━━━━━━━━━━━━━━━━━━━━━━━━━━━━━━━━━━━━━━╇━━━━━━━━━━━━━━━━━━━━━━━━━━━━━╇━━━━━━━━━━━━━━━━━┩\n",
              "│ embedding_2 (<span style=\"color: #0087ff; text-decoration-color: #0087ff\">Embedding</span>)              │ ?                           │     <span style=\"color: #00af00; text-decoration-color: #00af00\">0</span> (unbuilt) │\n",
              "├──────────────────────────────────────┼─────────────────────────────┼─────────────────┤\n",
              "│ lstm_4 (<span style=\"color: #0087ff; text-decoration-color: #0087ff\">LSTM</span>)                        │ ?                           │     <span style=\"color: #00af00; text-decoration-color: #00af00\">0</span> (unbuilt) │\n",
              "├──────────────────────────────────────┼─────────────────────────────┼─────────────────┤\n",
              "│ dropout_2 (<span style=\"color: #0087ff; text-decoration-color: #0087ff\">Dropout</span>)                  │ ?                           │               <span style=\"color: #00af00; text-decoration-color: #00af00\">0</span> │\n",
              "├──────────────────────────────────────┼─────────────────────────────┼─────────────────┤\n",
              "│ lstm_5 (<span style=\"color: #0087ff; text-decoration-color: #0087ff\">LSTM</span>)                        │ ?                           │     <span style=\"color: #00af00; text-decoration-color: #00af00\">0</span> (unbuilt) │\n",
              "├──────────────────────────────────────┼─────────────────────────────┼─────────────────┤\n",
              "│ dense_4 (<span style=\"color: #0087ff; text-decoration-color: #0087ff\">Dense</span>)                      │ ?                           │     <span style=\"color: #00af00; text-decoration-color: #00af00\">0</span> (unbuilt) │\n",
              "├──────────────────────────────────────┼─────────────────────────────┼─────────────────┤\n",
              "│ dense_5 (<span style=\"color: #0087ff; text-decoration-color: #0087ff\">Dense</span>)                      │ ?                           │     <span style=\"color: #00af00; text-decoration-color: #00af00\">0</span> (unbuilt) │\n",
              "└──────────────────────────────────────┴─────────────────────────────┴─────────────────┘\n",
              "</pre>\n"
            ]
          },
          "metadata": {}
        },
        {
          "output_type": "display_data",
          "data": {
            "text/plain": [
              "\u001b[1m Total params: \u001b[0m\u001b[38;5;34m0\u001b[0m (0.00 B)\n"
            ],
            "text/html": [
              "<pre style=\"white-space:pre;overflow-x:auto;line-height:normal;font-family:Menlo,'DejaVu Sans Mono',consolas,'Courier New',monospace\"><span style=\"font-weight: bold\"> Total params: </span><span style=\"color: #00af00; text-decoration-color: #00af00\">0</span> (0.00 B)\n",
              "</pre>\n"
            ]
          },
          "metadata": {}
        },
        {
          "output_type": "display_data",
          "data": {
            "text/plain": [
              "\u001b[1m Trainable params: \u001b[0m\u001b[38;5;34m0\u001b[0m (0.00 B)\n"
            ],
            "text/html": [
              "<pre style=\"white-space:pre;overflow-x:auto;line-height:normal;font-family:Menlo,'DejaVu Sans Mono',consolas,'Courier New',monospace\"><span style=\"font-weight: bold\"> Trainable params: </span><span style=\"color: #00af00; text-decoration-color: #00af00\">0</span> (0.00 B)\n",
              "</pre>\n"
            ]
          },
          "metadata": {}
        },
        {
          "output_type": "display_data",
          "data": {
            "text/plain": [
              "\u001b[1m Non-trainable params: \u001b[0m\u001b[38;5;34m0\u001b[0m (0.00 B)\n"
            ],
            "text/html": [
              "<pre style=\"white-space:pre;overflow-x:auto;line-height:normal;font-family:Menlo,'DejaVu Sans Mono',consolas,'Courier New',monospace\"><span style=\"font-weight: bold\"> Non-trainable params: </span><span style=\"color: #00af00; text-decoration-color: #00af00\">0</span> (0.00 B)\n",
              "</pre>\n"
            ]
          },
          "metadata": {}
        }
      ]
    },
    {
      "cell_type": "markdown",
      "source": [
        "## 2-Compile the Model"
      ],
      "metadata": {
        "id": "wYQ0lKEdI8Ey"
      }
    },
    {
      "cell_type": "markdown",
      "source": [
        "Now, we need to compile the model. We specify the optimizer, loss function, and metrics.\n",
        "\n",
        "Adam optimizer: Popular choice for training neural networks.\n",
        "\n",
        "Sparse categorical cross-entropy loss: Suitable for multi-class classification with integer labels.\n",
        "\n",
        "Accuracy: To evaluate the model performance."
      ],
      "metadata": {
        "id": "1BY-3ErLI-tz"
      }
    },
    {
      "cell_type": "code",
      "source": [
        "# Compile the model\n",
        "model.compile(\n",
        "    optimizer='adam',  # Optimizer\n",
        "    loss='sparse_categorical_crossentropy',  # Loss function (multi-class classification)\n",
        "    metrics=['accuracy']  # Metrics to track\n",
        ")\n"
      ],
      "metadata": {
        "id": "MFy_qKEXI_tl"
      },
      "execution_count": null,
      "outputs": []
    },
    {
      "cell_type": "markdown",
      "source": [
        "## 3-Train the Model"
      ],
      "metadata": {
        "id": "7Othy6ltJCG5"
      }
    },
    {
      "cell_type": "markdown",
      "source": [
        "Next, we train the model using the training data. We'll specify the number of epochs (iterations over the entire dataset) and the batch size (how many samples to process before updating the model)."
      ],
      "metadata": {
        "id": "W4SvCr6BJEm6"
      }
    },
    {
      "cell_type": "code",
      "source": [
        "# Train the model\n",
        "history = model.fit(\n",
        "    X_train_pad,  # Training data (padded sequences)\n",
        "    y_train,      # Training labels\n",
        "    epochs=5,     # Number of epochs\n",
        "    batch_size=32,  # Batch size\n",
        "    validation_data=(X_test_pad, y_test)  # Validation data to monitor performance on unseen data\n",
        ")\n"
      ],
      "metadata": {
        "colab": {
          "base_uri": "https://localhost:8080/"
        },
        "id": "VEDWipfwJFT5",
        "outputId": "63682723-7971-4a6d-bc69-0d61abba32e6"
      },
      "execution_count": null,
      "outputs": [
        {
          "output_type": "stream",
          "name": "stdout",
          "text": [
            "Epoch 1/5\n",
            "\u001b[1m27/27\u001b[0m \u001b[32m━━━━━━━━━━━━━━━━━━━━\u001b[0m\u001b[37m\u001b[0m \u001b[1m9s\u001b[0m 210ms/step - accuracy: 0.2456 - loss: 1.3824 - val_accuracy: 0.1000 - val_loss: 1.4682\n",
            "Epoch 2/5\n",
            "\u001b[1m27/27\u001b[0m \u001b[32m━━━━━━━━━━━━━━━━━━━━\u001b[0m\u001b[37m\u001b[0m \u001b[1m9s\u001b[0m 152ms/step - accuracy: 0.4433 - loss: 1.3413 - val_accuracy: 0.1267 - val_loss: 1.6135\n",
            "Epoch 3/5\n",
            "\u001b[1m27/27\u001b[0m \u001b[32m━━━━━━━━━━━━━━━━━━━━\u001b[0m\u001b[37m\u001b[0m \u001b[1m6s\u001b[0m 165ms/step - accuracy: 0.6394 - loss: 0.9582 - val_accuracy: 0.1800 - val_loss: 1.9775\n",
            "Epoch 4/5\n",
            "\u001b[1m27/27\u001b[0m \u001b[32m━━━━━━━━━━━━━━━━━━━━\u001b[0m\u001b[37m\u001b[0m \u001b[1m5s\u001b[0m 155ms/step - accuracy: 0.7360 - loss: 0.6063 - val_accuracy: 0.2333 - val_loss: 2.5095\n",
            "Epoch 5/5\n",
            "\u001b[1m27/27\u001b[0m \u001b[32m━━━━━━━━━━━━━━━━━━━━\u001b[0m\u001b[37m\u001b[0m \u001b[1m6s\u001b[0m 206ms/step - accuracy: 0.8686 - loss: 0.4256 - val_accuracy: 0.2600 - val_loss: 2.7018\n"
          ]
        }
      ]
    },
    {
      "cell_type": "markdown",
      "source": [
        "# 4-Visualize the Training Results"
      ],
      "metadata": {
        "id": "s09zDFcz7Vwo"
      }
    },
    {
      "cell_type": "markdown",
      "source": [
        "After plotting, you can still evaluate the model on the test dataset as we discussed earlier:"
      ],
      "metadata": {
        "id": "zruOMMxH7hqw"
      }
    },
    {
      "cell_type": "code",
      "source": [
        "import matplotlib.pyplot as plt\n",
        "\n",
        "# Plot Training & Validation Accuracy\n",
        "plt.figure(figsize=(12, 6))\n",
        "plt.subplot(1, 2, 1)  # (rows, columns, position)\n",
        "plt.plot(history.history['accuracy'], label='Training Accuracy')\n",
        "plt.plot(history.history['val_accuracy'], label='Validation Accuracy')\n",
        "plt.title('Training vs Validation Accuracy')\n",
        "plt.xlabel('Epochs')\n",
        "plt.ylabel('Accuracy')\n",
        "plt.legend()\n",
        "\n",
        "# Plot Training & Validation Loss\n",
        "plt.subplot(1, 2, 2)\n",
        "plt.plot(history.history['loss'], label='Training Loss')\n",
        "plt.plot(history.history['val_loss'], label='Validation Loss')\n",
        "plt.title('Training vs Validation Loss')\n",
        "plt.xlabel('Epochs')\n",
        "plt.ylabel('Loss')\n",
        "plt.legend()\n",
        "\n",
        "# Show the plots\n",
        "plt.tight_layout()\n",
        "plt.show()"
      ],
      "metadata": {
        "colab": {
          "base_uri": "https://localhost:8080/",
          "height": 569
        },
        "id": "Nazn4BaPJaVK",
        "outputId": "5628ba5a-3ab6-4d0a-d524-66c12d7d32b7"
      },
      "execution_count": null,
      "outputs": [
        {
          "output_type": "display_data",
          "data": {
            "text/plain": [
              "<Figure size 1200x600 with 2 Axes>"
            ],
            "image/png": "[encoded data removed]"
          },
          "metadata": {}
        }
      ]
    },
    {
      "cell_type": "markdown",
      "source": [
        "# 5-Final Evaluation on Test Data"
      ],
      "metadata": {
        "id": "aaP-lvtE6tHT"
      }
    },
    {
      "cell_type": "code",
      "source": [
        "# Evaluate the model on the test data\n",
        "loss, accuracy = model.evaluate(X_test_pad, y_test)\n",
        "\n",
        "# Print the evaluation results\n",
        "print(f\"Test Loss: {loss}\")\n",
        "print(f\"Test Accuracy: {accuracy}\")\n"
      ],
      "metadata": {
        "colab": {
          "base_uri": "https://localhost:8080/"
        },
        "id": "Vj4hxzysJTRi",
        "outputId": "2ba34e5c-3330-4fed-82a3-4291752c4002"
      },
      "execution_count": null,
      "outputs": [
        {
          "output_type": "stream",
          "name": "stdout",
          "text": [
            "\u001b[1m5/5\u001b[0m \u001b[32m━━━━━━━━━━━━━━━━━━━━\u001b[0m\u001b[37m\u001b[0m \u001b[1m0s\u001b[0m 40ms/step - accuracy: 0.2655 - loss: 2.6339\n",
            "Test Loss: 2.7018275260925293\n",
            "Test Accuracy: 0.25999999046325684\n"
          ]
        }
      ]
    }
  ]
}